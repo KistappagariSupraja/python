{
  "nbformat": 4,
  "nbformat_minor": 0,
  "metadata": {
    "colab": {
      "provenance": [],
      "authorship_tag": "ABX9TyO58JYOtn08o8U9zUdzPS2W",
      "include_colab_link": true
    },
    "kernelspec": {
      "name": "python3",
      "display_name": "Python 3"
    },
    "language_info": {
      "name": "python"
    }
  },
  "cells": [
    {
      "cell_type": "markdown",
      "metadata": {
        "id": "view-in-github",
        "colab_type": "text"
      },
      "source": [
        "<a href=\"https://colab.research.google.com/github/KistappagariSupraja/python/blob/main/practice7.ipynb\" target=\"_parent\"><img src=\"https://colab.research.google.com/assets/colab-badge.svg\" alt=\"Open In Colab\"/></a>"
      ]
    },
    {
      "cell_type": "code",
      "execution_count": 1,
      "metadata": {
        "colab": {
          "base_uri": "https://localhost:8080/"
        },
        "id": "vYM41pJMX9Th",
        "outputId": "41d66b23-1d3b-40cf-a0fd-a0a13c441529"
      },
      "outputs": [
        {
          "output_type": "stream",
          "name": "stdout",
          "text": [
            "['dora', 'magicland', 'junglebook', 'dangerschool']\n"
          ]
        }
      ],
      "source": [
        "#append items\n",
        "thislist=[\"dora\",\"magicland\",\"junglebook\"]\n",
        "thislist.append(\"dangerschool\")\n",
        "print(thislist)"
      ]
    },
    {
      "cell_type": "code",
      "source": [
        "#extend list\n",
        "thislist=[\"saree\",\"halfsaree\",\"anarkali\",\"kurthi\"]\n",
        "western=[\"jeans\",\"tshirt\",\"skirt\",\"tunics\"]\n",
        "thislist.extend(western)\n",
        "print(thislist)"
      ],
      "metadata": {
        "colab": {
          "base_uri": "https://localhost:8080/"
        },
        "id": "0Vr3ajmVY4uk",
        "outputId": "6233cc74-bc92-4ad6-f9d7-7370b5b25e49"
      },
      "execution_count": 2,
      "outputs": [
        {
          "output_type": "stream",
          "name": "stdout",
          "text": [
            "['saree', 'halfsaree', 'anarkali', 'kurthi', 'jeans', 'tshirt', 'skirt', 'tunics']\n"
          ]
        }
      ]
    },
    {
      "cell_type": "code",
      "source": [
        "#remove items\n",
        "thislist=[\"munch\",\"gems\",\"perk\",\"kitkat\",\"wafers\"]\n",
        "thislist.remove(\"gems\")\n",
        "print(thislist)"
      ],
      "metadata": {
        "colab": {
          "base_uri": "https://localhost:8080/"
        },
        "id": "3eQoLhoiZy4j",
        "outputId": "3bd9f705-4d6d-44c3-a649-707151610aef"
      },
      "execution_count": 3,
      "outputs": [
        {
          "output_type": "stream",
          "name": "stdout",
          "text": [
            "['munch', 'perk', 'kitkat', 'wafers']\n"
          ]
        }
      ]
    },
    {
      "cell_type": "code",
      "source": [
        "#sort list alphanumerically\n",
        "thislist=[\"zebra\",\"yak\",\"goat\",\"monkey\",\"bunny\"]\n",
        "thislist.sort()\n",
        "print(thislist)"
      ],
      "metadata": {
        "colab": {
          "base_uri": "https://localhost:8080/"
        },
        "id": "gsek8qlwaXUu",
        "outputId": "147d84c4-7ea5-44d1-8168-e86ba7a3fc22"
      },
      "execution_count": 4,
      "outputs": [
        {
          "output_type": "stream",
          "name": "stdout",
          "text": [
            "['bunny', 'goat', 'monkey', 'yak', 'zebra']\n"
          ]
        }
      ]
    }
  ]
}