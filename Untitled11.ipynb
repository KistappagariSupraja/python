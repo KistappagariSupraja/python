{
  "nbformat": 4,
  "nbformat_minor": 0,
  "metadata": {
    "colab": {
      "provenance": [],
      "authorship_tag": "ABX9TyONG1H8Q+o8519E0p5X6NfB",
      "include_colab_link": true
    },
    "kernelspec": {
      "name": "python3",
      "display_name": "Python 3"
    },
    "language_info": {
      "name": "python"
    }
  },
  "cells": [
    {
      "cell_type": "markdown",
      "metadata": {
        "id": "view-in-github",
        "colab_type": "text"
      },
      "source": [
        "<a href=\"https://colab.research.google.com/github/KistappagariSupraja/python/blob/main/Untitled11.ipynb\" target=\"_parent\"><img src=\"https://colab.research.google.com/assets/colab-badge.svg\" alt=\"Open In Colab\"/></a>"
      ]
    },
    {
      "cell_type": "code",
      "execution_count": 1,
      "metadata": {
        "colab": {
          "base_uri": "https://localhost:8080/"
        },
        "id": "acl8hdCvLrAA",
        "outputId": "3561e97a-1dd6-4abe-ecbb-6bb72770743b"
      },
      "outputs": [
        {
          "output_type": "stream",
          "name": "stdout",
          "text": [
            "{'brand': 'goochi', 'type': 'deodrant', 'cost': '1100-15000'}\n"
          ]
        }
      ],
      "source": [
        "#removing items using pop\n",
        "thisdict={\n",
        "    \"brand\":\"goochi\",\n",
        "    \"type\":\"deodrant\",\n",
        "    \"year\":\"2015\",\n",
        "    \"cost\":\"1100-15000\"\n",
        "}\n",
        "thisdict.pop(\"year\")\n",
        "print(thisdict)"
      ]
    },
    {
      "cell_type": "code",
      "source": [
        "#deleting items\n",
        "thisdict={\n",
        "    \"brand\":\"suzuki\",\n",
        "    \"model\":\"shift\",\n",
        "    \"year\":2006\n",
        "}\n",
        "del thisdict[\"year\"]\n",
        "print(thisdict)"
      ],
      "metadata": {
        "colab": {
          "base_uri": "https://localhost:8080/"
        },
        "id": "-IrN70yFNWNc",
        "outputId": "b50da13e-737b-455e-fc1e-0907e59e9d5f"
      },
      "execution_count": 5,
      "outputs": [
        {
          "output_type": "stream",
          "name": "stdout",
          "text": [
            "{'brand': 'suzuki', 'model': 'shift'}\n"
          ]
        }
      ]
    }
  ]
}