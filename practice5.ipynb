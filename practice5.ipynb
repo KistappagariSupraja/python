{
  "nbformat": 4,
  "nbformat_minor": 0,
  "metadata": {
    "colab": {
      "provenance": [],
      "authorship_tag": "ABX9TyM+ewLtl9KEAa06zWMHGugb",
      "include_colab_link": true
    },
    "kernelspec": {
      "name": "python3",
      "display_name": "Python 3"
    },
    "language_info": {
      "name": "python"
    }
  },
  "cells": [
    {
      "cell_type": "markdown",
      "metadata": {
        "id": "view-in-github",
        "colab_type": "text"
      },
      "source": [
        "<a href=\"https://colab.research.google.com/github/KistappagariSupraja/python/blob/main/practice5.ipynb\" target=\"_parent\"><img src=\"https://colab.research.google.com/assets/colab-badge.svg\" alt=\"Open In Colab\"/></a>"
      ]
    },
    {
      "cell_type": "code",
      "execution_count": 10,
      "metadata": {
        "colab": {
          "base_uri": "https://localhost:8080/"
        },
        "id": "L4isWfe9HY0t",
        "outputId": "35a88094-9b77-40c2-d333-434e7da5c931"
      },
      "outputs": [
        {
          "output_type": "stream",
          "name": "stdout",
          "text": [
            "True\n"
          ]
        }
      ],
      "source": [
        "#name ends with\n",
        "name=\"supraja.\"\n",
        "print(name.endswith(\"ja.\"))\n"
      ]
    },
    {
      "cell_type": "code",
      "source": [
        "#string capitalize\n",
        "name=\"supraja\"\n",
        "capitalized_name=name.capitalize()\n",
        "print(capitalized_name)"
      ],
      "metadata": {
        "colab": {
          "base_uri": "https://localhost:8080/"
        },
        "id": "DfuJwU_tJHhw",
        "outputId": "2a87456e-bace-481a-e9c8-1d775683ca18"
      },
      "execution_count": 18,
      "outputs": [
        {
          "output_type": "stream",
          "name": "stdout",
          "text": [
            "Supraja\n"
          ]
        }
      ]
    },
    {
      "cell_type": "code",
      "source": [
        "#upper case\n",
        "name=\"mahesh\"\n",
        "upper_name=name.upper()\n",
        "print(upper_name)"
      ],
      "metadata": {
        "colab": {
          "base_uri": "https://localhost:8080/"
        },
        "id": "qOa_T_OWLHex",
        "outputId": "6b5dc8b2-d708-4a8c-854e-972244468c01"
      },
      "execution_count": 20,
      "outputs": [
        {
          "output_type": "stream",
          "name": "stdout",
          "text": [
            "MAHESH\n"
          ]
        }
      ]
    },
    {
      "cell_type": "code",
      "source": [
        "name=\"suprAJA\"\n",
        "lower_name=name.lower()\n",
        "print(lower_name)"
      ],
      "metadata": {
        "colab": {
          "base_uri": "https://localhost:8080/"
        },
        "id": "Ph7IC7NlLGVm",
        "outputId": "e11a65c7-6f64-4b13-d39e-dcf462f0bee5"
      },
      "execution_count": 21,
      "outputs": [
        {
          "output_type": "stream",
          "name": "stdout",
          "text": [
            "supraja\n"
          ]
        }
      ]
    },
    {
      "cell_type": "code",
      "source": [],
      "metadata": {
        "id": "oeCkCVawLjgR"
      },
      "execution_count": null,
      "outputs": []
    }
  ]
}