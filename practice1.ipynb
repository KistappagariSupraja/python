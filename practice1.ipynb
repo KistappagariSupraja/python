{
  "nbformat": 4,
  "nbformat_minor": 0,
  "metadata": {
    "colab": {
      "provenance": [],
      "authorship_tag": "ABX9TyNT293pFQN3myexchHQrZ0Z",
      "include_colab_link": true
    },
    "kernelspec": {
      "name": "python3",
      "display_name": "Python 3"
    },
    "language_info": {
      "name": "python"
    }
  },
  "cells": [
    {
      "cell_type": "markdown",
      "metadata": {
        "id": "view-in-github",
        "colab_type": "text"
      },
      "source": [
        "<a href=\"https://colab.research.google.com/github/KistappagariSupraja/python/blob/main/practice1.ipynb\" target=\"_parent\"><img src=\"https://colab.research.google.com/assets/colab-badge.svg\" alt=\"Open In Colab\"/></a>"
      ]
    },
    {
      "cell_type": "code",
      "execution_count": 4,
      "metadata": {
        "colab": {
          "base_uri": "https://localhost:8080/"
        },
        "id": "K6o9TiBYza6K",
        "outputId": "83cabda1-235d-4295-a97a-5cd3d6b71141"
      },
      "outputs": [
        {
          "output_type": "stream",
          "name": "stdout",
          "text": [
            "hello,iam chinnu\n"
          ]
        }
      ],
      "source": [
        "print(\"hello,iam chinnu\")"
      ]
    },
    {
      "cell_type": "code",
      "source": [
        "#comments\n",
        "'''\n",
        "print(\"iam from tirupathi\")\n",
        "print(\"ece\")\n",
        "'''\n",
        "#below statement will print something\n",
        "print('''python''')"
      ],
      "metadata": {
        "colab": {
          "base_uri": "https://localhost:8080/"
        },
        "id": "FPY31Poz09mv",
        "outputId": "e774fa8d-4318-4f74-d981-7bc6d3ae4ee2"
      },
      "execution_count": 9,
      "outputs": [
        {
          "output_type": "stream",
          "name": "stdout",
          "text": [
            "python\n"
          ]
        }
      ]
    },
    {
      "cell_type": "code",
      "source": [
        "#variables\n",
        "a,b,c=3,4,5\n",
        "print(a+b)\n",
        "print(b+c)"
      ],
      "metadata": {
        "colab": {
          "base_uri": "https://localhost:8080/"
        },
        "id": "jNQUX2eI55D3",
        "outputId": "810bd613-64f4-4708-9a1b-fdc491ee53be"
      },
      "execution_count": 13,
      "outputs": [
        {
          "output_type": "stream",
          "name": "stdout",
          "text": [
            "7\n",
            "9\n"
          ]
        }
      ]
    },
    {
      "cell_type": "code",
      "source": [
        "\n",
        "# condition statements\n",
        "age=int(input(\"enter the age:\"))\n",
        "if age>18:\n",
        "  print(\"you can vote\")\n",
        "elif age==18:\n",
        "  print(\"you can vote\")\n",
        "else:\n",
        "  print(\"wait to get the right to vote\")\n",
        "\n"
      ],
      "metadata": {
        "colab": {
          "base_uri": "https://localhost:8080/"
        },
        "id": "9mx6iyap6bM3",
        "outputId": "a172739f-5b5b-4b11-92fb-1e7898b06426"
      },
      "execution_count": 20,
      "outputs": [
        {
          "output_type": "stream",
          "name": "stdout",
          "text": [
            "enter the age:10\n",
            "wait to get the right to vote\n"
          ]
        }
      ]
    },
    {
      "cell_type": "code",
      "source": [],
      "metadata": {
        "id": "KhZOv_5J41nM"
      },
      "execution_count": null,
      "outputs": []
    }
  ]
}