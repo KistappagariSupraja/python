{
  "nbformat": 4,
  "nbformat_minor": 0,
  "metadata": {
    "colab": {
      "provenance": [],
      "authorship_tag": "ABX9TyMuhWQhcag7xDjjA2t02vJl",
      "include_colab_link": true
    },
    "kernelspec": {
      "name": "python3",
      "display_name": "Python 3"
    },
    "language_info": {
      "name": "python"
    }
  },
  "cells": [
    {
      "cell_type": "markdown",
      "metadata": {
        "id": "view-in-github",
        "colab_type": "text"
      },
      "source": [
        "<a href=\"https://colab.research.google.com/github/KistappagariSupraja/python/blob/main/practice6.ipynb\" target=\"_parent\"><img src=\"https://colab.research.google.com/assets/colab-badge.svg\" alt=\"Open In Colab\"/></a>"
      ]
    },
    {
      "cell_type": "code",
      "execution_count": 3,
      "metadata": {
        "colab": {
          "base_uri": "https://localhost:8080/"
        },
        "id": "ecHeY25WUV5W",
        "outputId": "675d93ba-3b65-4b4f-fd45-59e4184296d7"
      },
      "outputs": [
        {
          "output_type": "stream",
          "name": "stdout",
          "text": [
            "['apple', 'banana', 'banana']\n"
          ]
        }
      ],
      "source": [
        "#lists\n",
        "thislist=[\"apple\",\"banana\",\"banana\"]\n",
        "print(thislist)"
      ]
    },
    {
      "cell_type": "code",
      "source": [
        "#acces items\n",
        "thislist=[\"apple\",\"pineapple\",\"berries\"]\n",
        "print(thislist[1])\n"
      ],
      "metadata": {
        "colab": {
          "base_uri": "https://localhost:8080/"
        },
        "id": "dJt_Eha1Uj9B",
        "outputId": "b5a65695-d2d4-4d14-e770-951f020204f5"
      },
      "execution_count": 5,
      "outputs": [
        {
          "output_type": "stream",
          "name": "stdout",
          "text": [
            "pineapple\n"
          ]
        }
      ]
    },
    {
      "cell_type": "code",
      "source": [
        "#negative indexing\n",
        "thislist=[\"pink\",\"blue\",\"white\",\"red\",\"black\"]\n",
        "print(thislist[-1],thislist[-2])"
      ],
      "metadata": {
        "colab": {
          "base_uri": "https://localhost:8080/"
        },
        "id": "O4heIO39VSy3",
        "outputId": "135fc18b-e7bf-4ce2-d516-0618cb998943"
      },
      "execution_count": 7,
      "outputs": [
        {
          "output_type": "stream",
          "name": "stdout",
          "text": [
            "black red\n"
          ]
        }
      ]
    },
    {
      "cell_type": "code",
      "source": [
        "#to change specific value of item\n",
        "thislist=[\"ice\",\"ball\",\"cherry\",\"toy\"]\n",
        "thislist[1]=\"icetea\"\n",
        "print(thislist)"
      ],
      "metadata": {
        "id": "ov3oMTeGV9nb",
        "outputId": "96078f11-6b70-42e4-df0c-f6fd0fc84f70",
        "colab": {
          "base_uri": "https://localhost:8080/"
        }
      },
      "execution_count": 9,
      "outputs": [
        {
          "output_type": "stream",
          "name": "stdout",
          "text": [
            "['ice', 'icetea', 'cherry', 'toy']\n"
          ]
        }
      ]
    },
    {
      "cell_type": "code",
      "source": [
        "#inert items\n",
        "thislist=[\"cucumber\",\"carrot\",\"potato\"]\n",
        "thislist.insert(3,\"soyachunks\")\n",
        "print(thislist)"
      ],
      "metadata": {
        "id": "UabRnJZTV9hf",
        "outputId": "5b553000-5469-4cb8-a484-1d307bc5ec44",
        "colab": {
          "base_uri": "https://localhost:8080/"
        }
      },
      "execution_count": 10,
      "outputs": [
        {
          "output_type": "stream",
          "name": "stdout",
          "text": [
            "['cucumber', 'carrot', 'potato', 'soyachunks']\n"
          ]
        }
      ]
    }
  ]
}