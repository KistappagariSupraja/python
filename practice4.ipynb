{
  "nbformat": 4,
  "nbformat_minor": 0,
  "metadata": {
    "colab": {
      "provenance": [],
      "authorship_tag": "ABX9TyNs/YqizWRDgCy97Tiloley",
      "include_colab_link": true
    },
    "kernelspec": {
      "name": "python3",
      "display_name": "Python 3"
    },
    "language_info": {
      "name": "python"
    }
  },
  "cells": [
    {
      "cell_type": "markdown",
      "metadata": {
        "id": "view-in-github",
        "colab_type": "text"
      },
      "source": [
        "<a href=\"https://colab.research.google.com/github/KistappagariSupraja/python/blob/main/practice4.ipynb\" target=\"_parent\"><img src=\"https://colab.research.google.com/assets/colab-badge.svg\" alt=\"Open In Colab\"/></a>"
      ]
    },
    {
      "cell_type": "code",
      "execution_count": 1,
      "metadata": {
        "colab": {
          "base_uri": "https://localhost:8080/"
        },
        "id": "g9E_n4B4_PHV",
        "outputId": "b5c65a5b-ec00-4b46-b0e5-f5acc79fe8d6"
      },
      "outputs": [
        {
          "output_type": "stream",
          "name": "stdout",
          "text": [
            "enter your name:supraja\n",
            "good afternoon,supraja!\n"
          ]
        }
      ],
      "source": [
        "#string slicing\n",
        "name=input(\"enter your name:\")\n",
        "print(f\"good afternoon,{name}!\")"
      ]
    },
    {
      "cell_type": "code",
      "source": [
        "text=\"i love mangoes\"\n",
        "new_text=text.replace(\"mangoes\",\"grapes\")\n",
        "print(\"original text:\",text)\n",
        "print(\"modified text:\", new_text)\n"
      ],
      "metadata": {
        "colab": {
          "base_uri": "https://localhost:8080/"
        },
        "id": "gYM6jtFtAWeK",
        "outputId": "b24901da-6df9-4654-9a64-0aaf841b44df"
      },
      "execution_count": 12,
      "outputs": [
        {
          "output_type": "stream",
          "name": "stdout",
          "text": [
            "original text: i love mangoes\n",
            "modified text: i love grapes\n"
          ]
        }
      ]
    },
    {
      "cell_type": "code",
      "source": [
        "#type conversion\n",
        "a=42\n",
        "b=\"42\"\n",
        "c=8.5\n",
        "print(type(a),a)\n",
        "print(type(b),b)\n",
        "print(type(c),c)\n",
        "\n",
        "\n"
      ],
      "metadata": {
        "colab": {
          "base_uri": "https://localhost:8080/"
        },
        "id": "Hg_WqfAuFHnF",
        "outputId": "6c5cfeef-04c3-4e09-c13a-75bd6eb7d6ea"
      },
      "execution_count": 13,
      "outputs": [
        {
          "output_type": "stream",
          "name": "stdout",
          "text": [
            "<class 'int'> 42\n",
            "<class 'str'> 42\n",
            "<class 'float'> 8.5\n"
          ]
        }
      ]
    }
  ]
}