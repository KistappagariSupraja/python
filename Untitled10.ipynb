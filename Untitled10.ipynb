{
  "nbformat": 4,
  "nbformat_minor": 0,
  "metadata": {
    "colab": {
      "provenance": [],
      "authorship_tag": "ABX9TyPkF+pqXc6Q2oZ7iExLrX6U",
      "include_colab_link": true
    },
    "kernelspec": {
      "name": "python3",
      "display_name": "Python 3"
    },
    "language_info": {
      "name": "python"
    }
  },
  "cells": [
    {
      "cell_type": "markdown",
      "metadata": {
        "id": "view-in-github",
        "colab_type": "text"
      },
      "source": [
        "<a href=\"https://colab.research.google.com/github/KistappagariSupraja/python/blob/main/Untitled10.ipynb\" target=\"_parent\"><img src=\"https://colab.research.google.com/assets/colab-badge.svg\" alt=\"Open In Colab\"/></a>"
      ]
    },
    {
      "cell_type": "code",
      "execution_count": 26,
      "metadata": {
        "colab": {
          "base_uri": "https://localhost:8080/"
        },
        "id": "W8Y9VpJ7HlB3",
        "outputId": "69776dab-454f-4a20-b567-9c683ca6b8cd"
      },
      "outputs": [
        {
          "output_type": "stream",
          "name": "stdout",
          "text": [
            "mustang\n"
          ]
        }
      ],
      "source": [
        "#accesing items\n",
        "thisdict={\n",
        "    \"brand\":\"ford\",\n",
        "    \"model\":\"mustang\",\n",
        "    \"year\":\"1964\"\n",
        "}\n",
        "x=thisdict[\"model\"]#acess dictionary values using square brackets and key.\n",
        "print(x)"
      ]
    },
    {
      "cell_type": "code",
      "source": [
        "#update dictionary\n",
        "thisdict={\n",
        "    \"brand\":\"trends\",\n",
        "    \"model\":\"small collar\",\n",
        "    \"year\":1964\n",
        "}\n",
        "thisdict.update({\"year\":2024})\n",
        "print(thisdict)"
      ],
      "metadata": {
        "colab": {
          "base_uri": "https://localhost:8080/"
        },
        "id": "CBucLv4nJd7e",
        "outputId": "ee7ee86a-81cd-4752-edb2-c372d71846ea"
      },
      "execution_count": 28,
      "outputs": [
        {
          "output_type": "stream",
          "name": "stdout",
          "text": [
            "{'brand': 'trends', 'model': 'small collar', 'year': 2024}\n"
          ]
        }
      ]
    },
    {
      "cell_type": "code",
      "source": [
        "#adding items\n",
        "thisdict={\n",
        "    \"brand\":\"gocolours\",\n",
        "    \"model\":\"small collar\",\n",
        "    \"year\":1964\n",
        "}\n",
        "thisdict[\"color\"]=\"red\"\n",
        "print(thisdict)\n"
      ],
      "metadata": {
        "colab": {
          "base_uri": "https://localhost:8080/"
        },
        "id": "iBeVsCpxK3RF",
        "outputId": "67544a8b-35b0-4d1e-9a33-22ab2118142d"
      },
      "execution_count": 29,
      "outputs": [
        {
          "output_type": "stream",
          "name": "stdout",
          "text": [
            "{'brand': 'gocolours', 'model': 'small collar', 'year': 1964, 'color': 'red'}\n"
          ]
        }
      ]
    }
  ]
}