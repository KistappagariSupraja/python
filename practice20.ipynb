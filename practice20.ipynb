{
  "nbformat": 4,
  "nbformat_minor": 0,
  "metadata": {
    "colab": {
      "provenance": [],
      "authorship_tag": "ABX9TyMH27rX4uQWTcwttZ7Sj3l0",
      "include_colab_link": true
    },
    "kernelspec": {
      "name": "python3",
      "display_name": "Python 3"
    },
    "language_info": {
      "name": "python"
    }
  },
  "cells": [
    {
      "cell_type": "markdown",
      "metadata": {
        "id": "view-in-github",
        "colab_type": "text"
      },
      "source": [
        "<a href=\"https://colab.research.google.com/github/KistappagariSupraja/python/blob/main/practice20.ipynb\" target=\"_parent\"><img src=\"https://colab.research.google.com/assets/colab-badge.svg\" alt=\"Open In Colab\"/></a>"
      ]
    },
    {
      "cell_type": "code",
      "execution_count": 1,
      "metadata": {
        "colab": {
          "base_uri": "https://localhost:8080/"
        },
        "id": "6Qw_u6Il_SVR",
        "outputId": "6075a2eb-972d-40ad-90c6-b2a5577ec659"
      },
      "outputs": [
        {
          "output_type": "stream",
          "name": "stdout",
          "text": [
            "        1 \n",
            "      2 2 2 \n",
            "    3 3 3 3 3 \n",
            "  4 4 4 4 4 4 4 \n",
            "5 5 5 5 5 5 5 5 5 \n"
          ]
        }
      ],
      "source": [
        "n=5\n",
        "for rows in range(1,n+1):\n",
        "  for spaces in range(1,n-rows+1):\n",
        "    print(\" \",end=\" \")\n",
        "  for cols in range(1,2*rows):\n",
        "    print(rows,end=\" \")\n",
        "  print()"
      ]
    },
    {
      "cell_type": "code",
      "source": [
        "n=5\n",
        "for rows in range(1,n+1):\n",
        "  for spaces in range(1,rows+1):\n",
        "    print(\" \",end=\" \")\n",
        "  for cols in range(1 ,2*n-2*rows+2):\n",
        "    print(rows,end=\" \")\n",
        "  print()"
      ],
      "metadata": {
        "colab": {
          "base_uri": "https://localhost:8080/"
        },
        "id": "gkv-1jTpAYzv",
        "outputId": "70f423b8-d64c-45b3-afcf-da8fa8fdd4d1"
      },
      "execution_count": 37,
      "outputs": [
        {
          "output_type": "stream",
          "name": "stdout",
          "text": [
            "  1 1 1 1 1 1 1 1 1 \n",
            "    2 2 2 2 2 2 2 \n",
            "      3 3 3 3 3 \n",
            "        4 4 4 \n",
            "          5 \n"
          ]
        }
      ]
    },
    {
      "cell_type": "code",
      "source": [
        "#daimond pattern\n",
        "n=int(input(\"enter the number:\"))\n",
        "for rows in range(1,n+1):\n",
        "  for spaces in range(1,n-rows+1):\n",
        "    print(\" \",end=\" \")\n",
        "  for cols in range(1,2*rows):\n",
        "     print(\"*\",end=\" \")\n",
        "  print()\n",
        "for rows in range(1,n):\n",
        "    for spaces in range(1,rows+1):\n",
        "      print(\" \",end=\" \")\n",
        "    for cols in range(1,2*n-2*rows):\n",
        "        print(\"*\",end=\" \")\n",
        "    print()"
      ],
      "metadata": {
        "colab": {
          "base_uri": "https://localhost:8080/"
        },
        "id": "z20HVlgjEFP9",
        "outputId": "22e96702-74ab-4a2d-a6bf-d09de8c614dc"
      },
      "execution_count": 44,
      "outputs": [
        {
          "output_type": "stream",
          "name": "stdout",
          "text": [
            "enter the number:7\n",
            "            * \n",
            "          * * * \n",
            "        * * * * * \n",
            "      * * * * * * * \n",
            "    * * * * * * * * * \n",
            "  * * * * * * * * * * * \n",
            "* * * * * * * * * * * * * \n",
            "  * * * * * * * * * * * \n",
            "    * * * * * * * * * \n",
            "      * * * * * * * \n",
            "        * * * * * \n",
            "          * * * \n",
            "            * \n"
          ]
        }
      ]
    },
    {
      "cell_type": "code",
      "source": [
        "#square\n",
        "n=5\n",
        "for rows in range(1,n+1):\n",
        "  for cols in range(1,n+1):\n",
        "    if rows==1 or rows==n or cols==1 or cols==n:\n",
        "     print(\"*\",end=\" \")\n",
        "    else:\n",
        "      print(\" \",end=\" \")\n",
        "  print()"
      ],
      "metadata": {
        "colab": {
          "base_uri": "https://localhost:8080/"
        },
        "id": "anIWNUPMH1sZ",
        "outputId": "3616dac0-599c-4a92-ffff-94e4d21c08de"
      },
      "execution_count": 45,
      "outputs": [
        {
          "output_type": "stream",
          "name": "stdout",
          "text": [
            "* * * * * \n",
            "*       * \n",
            "*       * \n",
            "*       * \n",
            "* * * * * \n"
          ]
        }
      ]
    }
  ]
}