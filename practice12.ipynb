{
  "nbformat": 4,
  "nbformat_minor": 0,
  "metadata": {
    "colab": {
      "provenance": [],
      "authorship_tag": "ABX9TyPBa6wVnTrGow7fbuVBRCsm",
      "include_colab_link": true
    },
    "kernelspec": {
      "name": "python3",
      "display_name": "Python 3"
    },
    "language_info": {
      "name": "python"
    }
  },
  "cells": [
    {
      "cell_type": "markdown",
      "metadata": {
        "id": "view-in-github",
        "colab_type": "text"
      },
      "source": [
        "<a href=\"https://colab.research.google.com/github/KistappagariSupraja/python/blob/main/practice12.ipynb\" target=\"_parent\"><img src=\"https://colab.research.google.com/assets/colab-badge.svg\" alt=\"Open In Colab\"/></a>"
      ]
    },
    {
      "cell_type": "code",
      "execution_count": 1,
      "metadata": {
        "colab": {
          "base_uri": "https://localhost:8080/"
        },
        "id": "g-D9Sok3_uss",
        "outputId": "38af2c34-ee90-4a62-9917-a50660e821a6"
      },
      "outputs": [
        {
          "output_type": "stream",
          "name": "stdout",
          "text": [
            "{'custard apple', 'mango', 'star fruit', 'grapes'}\n"
          ]
        }
      ],
      "source": [
        "#sets\n",
        "thisset={\"mango\",\"custard apple\",\"grapes\",\"star fruit\"}\n",
        "print(thisset)"
      ]
    },
    {
      "cell_type": "code",
      "source": [
        "#no duplicates allowed\n",
        "thisset={\"pen\",\"book\",\"pen\",\"pencil\"}\n",
        "print(thisset)"
      ],
      "metadata": {
        "colab": {
          "base_uri": "https://localhost:8080/"
        },
        "id": "7nvvMss9AncP",
        "outputId": "6f8fe949-30a8-41c6-bc5f-925272519be7"
      },
      "execution_count": 2,
      "outputs": [
        {
          "output_type": "stream",
          "name": "stdout",
          "text": [
            "{'book', 'pencil', 'pen'}\n"
          ]
        }
      ]
    },
    {
      "cell_type": "code",
      "source": [
        "thisset={\"pen\",\"book\",\"pen\",\"pencil\"}\n",
        "for x in thisset:\n",
        "    print(x)"
      ],
      "metadata": {
        "colab": {
          "base_uri": "https://localhost:8080/"
        },
        "id": "CgD--skFBPyu",
        "outputId": "4214a311-3c7d-4361-8aa5-21ada0c698ac"
      },
      "execution_count": 3,
      "outputs": [
        {
          "output_type": "stream",
          "name": "stdout",
          "text": [
            "book\n",
            "pencil\n",
            "pen\n"
          ]
        }
      ]
    },
    {
      "cell_type": "code",
      "source": [
        "#add\n",
        "thisset={ \"mahi\",\"ram\",\"bunny\",\"pk\"}\n",
        "thisset.add(\"chiru\")\n",
        "print(thisset)\n"
      ],
      "metadata": {
        "colab": {
          "base_uri": "https://localhost:8080/"
        },
        "id": "zR9JOMQTBp_L",
        "outputId": "762db450-8b6b-4414-e792-3db865b457d9"
      },
      "execution_count": 4,
      "outputs": [
        {
          "output_type": "stream",
          "name": "stdout",
          "text": [
            "{'mahi', 'pk', 'ram', 'bunny', 'chiru'}\n"
          ]
        }
      ]
    },
    {
      "cell_type": "code",
      "source": [
        "#remove\n",
        "thisset={\"munch\",\"kitkat\",\"kisses\",\"dairy milk\"}\n",
        "thisset.remove(\"kisses\")\n",
        "print(thisset)"
      ],
      "metadata": {
        "colab": {
          "base_uri": "https://localhost:8080/"
        },
        "id": "xZ0DFBtuCpRg",
        "outputId": "8c2f1f6a-fce7-422b-c41b-9e24966a8e80"
      },
      "execution_count": 5,
      "outputs": [
        {
          "output_type": "stream",
          "name": "stdout",
          "text": [
            "{'munch', 'dairy milk', 'kitkat'}\n"
          ]
        }
      ]
    },
    {
      "cell_type": "code",
      "source": [
        "#update\n",
        "set1={\"hillstations\",\"water falls\",\"beach\",\"forest\"}\n",
        "set2=(\"movies\",\"games\",\"concerts\",\"songs\")\n",
        "set1.update(set2)\n",
        "print(set1)"
      ],
      "metadata": {
        "colab": {
          "base_uri": "https://localhost:8080/"
        },
        "id": "g1p_fIjCDaBp",
        "outputId": "44890604-2dce-4ef6-c8b2-8651347c065a"
      },
      "execution_count": 8,
      "outputs": [
        {
          "output_type": "stream",
          "name": "stdout",
          "text": [
            "{'beach', 'movies', 'hillstations', 'songs', 'concerts', 'games', 'water falls', 'forest'}\n"
          ]
        }
      ]
    }
  ]
}