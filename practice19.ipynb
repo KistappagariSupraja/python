{
  "nbformat": 4,
  "nbformat_minor": 0,
  "metadata": {
    "colab": {
      "provenance": [],
      "authorship_tag": "ABX9TyPW7QRwB2ZxghKqhTBSCRIR",
      "include_colab_link": true
    },
    "kernelspec": {
      "name": "python3",
      "display_name": "Python 3"
    },
    "language_info": {
      "name": "python"
    }
  },
  "cells": [
    {
      "cell_type": "markdown",
      "metadata": {
        "id": "view-in-github",
        "colab_type": "text"
      },
      "source": [
        "<a href=\"https://colab.research.google.com/github/KistappagariSupraja/python/blob/main/practice19.ipynb\" target=\"_parent\"><img src=\"https://colab.research.google.com/assets/colab-badge.svg\" alt=\"Open In Colab\"/></a>"
      ]
    },
    {
      "cell_type": "code",
      "execution_count": 35,
      "metadata": {
        "colab": {
          "base_uri": "https://localhost:8080/"
        },
        "collapsed": true,
        "id": "rczTOom-2NvD",
        "outputId": "949eb5e0-74f1-490e-bc7f-410c093d50ab"
      },
      "outputs": [
        {
          "output_type": "stream",
          "name": "stdout",
          "text": [
            "! \n",
            "! ! \n",
            "! ! ! \n",
            "! ! ! ! \n",
            "! ! ! ! ! \n"
          ]
        }
      ],
      "source": [
        "#patterns\n",
        "n=5\n",
        "for rows in range(1,n+1):\n",
        "  for cols in range(1,rows+1):\n",
        "    print(\"!\",end=\" \")\n",
        "  print()"
      ]
    },
    {
      "cell_type": "code",
      "source": [
        "#coloumns\n",
        "n=5\n",
        "for rows in range(1,n+1):\n",
        "      for cols in range(1,n-rows+2):\n",
        "          print(rows,end=\" \")\n",
        "      print()"
      ],
      "metadata": {
        "colab": {
          "base_uri": "https://localhost:8080/"
        },
        "id": "DlIPpp4r30GI",
        "outputId": "848afe86-779c-4836-81e4-edcc9a95fbd3"
      },
      "execution_count": 34,
      "outputs": [
        {
          "output_type": "stream",
          "name": "stdout",
          "text": [
            "1 1 1 1 1 \n",
            "2 2 2 2 \n",
            "3 3 3 \n",
            "4 4 \n",
            "5 \n"
          ]
        }
      ]
    },
    {
      "cell_type": "code",
      "source": [
        "#patterns\n",
        "n=6\n",
        "for rows in range(1,n+1):\n",
        "  for spaces in range(1,n-rows+1):\n",
        "    print(\" \",end=\" \")\n",
        "  for cols in range(1,rows+1):\n",
        "      print(\"#\",end=\" \")\n",
        "  print()"
      ],
      "metadata": {
        "colab": {
          "base_uri": "https://localhost:8080/"
        },
        "id": "p-XbJXFi5DI1",
        "outputId": "a57ad8b4-fc91-40fa-dd6d-2d4c83978b9b"
      },
      "execution_count": 39,
      "outputs": [
        {
          "output_type": "stream",
          "name": "stdout",
          "text": [
            "          # \n",
            "        # # \n",
            "      # # # \n",
            "    # # # # \n",
            "  # # # # # \n",
            "# # # # # # \n"
          ]
        }
      ]
    },
    {
      "cell_type": "code",
      "source": [
        "n=5\n",
        "for rows in range(1,n+1):\n",
        "  for spaces in range(1,rows):\n",
        "    print(\" \",end=\" \")\n",
        "  for cols in range(1,n-rows+2):\n",
        "      print(rows,end=\" \")\n",
        "  print()"
      ],
      "metadata": {
        "colab": {
          "base_uri": "https://localhost:8080/"
        },
        "id": "JtrW4MxZ97lX",
        "outputId": "03915dc3-30ed-424d-a971-897fbfe48151"
      },
      "execution_count": 40,
      "outputs": [
        {
          "output_type": "stream",
          "name": "stdout",
          "text": [
            "1 1 1 1 1 \n",
            "  2 2 2 2 \n",
            "    3 3 3 \n",
            "      4 4 \n",
            "        5 \n"
          ]
        }
      ]
    }
  ]
}