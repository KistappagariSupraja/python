{
  "nbformat": 4,
  "nbformat_minor": 0,
  "metadata": {
    "colab": {
      "provenance": [],
      "authorship_tag": "ABX9TyObMbskZ/VJrqBn9XUoNJkR",
      "include_colab_link": true
    },
    "kernelspec": {
      "name": "python3",
      "display_name": "Python 3"
    },
    "language_info": {
      "name": "python"
    }
  },
  "cells": [
    {
      "cell_type": "markdown",
      "metadata": {
        "id": "view-in-github",
        "colab_type": "text"
      },
      "source": [
        "<a href=\"https://colab.research.google.com/github/KistappagariSupraja/python/blob/main/practice16.ipynb\" target=\"_parent\"><img src=\"https://colab.research.google.com/assets/colab-badge.svg\" alt=\"Open In Colab\"/></a>"
      ]
    },
    {
      "cell_type": "code",
      "execution_count": 1,
      "metadata": {
        "colab": {
          "base_uri": "https://localhost:8080/"
        },
        "id": "m-JZZ0hHGXEy",
        "outputId": "96f68d50-081e-4dd8-d973-bd21256112cd"
      },
      "outputs": [
        {
          "output_type": "stream",
          "name": "stdout",
          "text": [
            "enter a number to caluculate its factorial:6\n",
            "factorial: 6\n",
            "factorial: 30\n",
            "factorial: 120\n",
            "factorial: 360\n",
            "factorial: 720\n",
            "factorial: 720\n"
          ]
        }
      ],
      "source": [
        "#factorial using while loop\n",
        "number=int(input(\"enter a number to caluculate its factorial:\"))\n",
        "factorial=1\n",
        "while number>0:\n",
        "  factorial*=number\n",
        "  number-=1\n",
        "print(\"factorial:\",factorial)"
      ]
    },
    {
      "cell_type": "code",
      "source": [
        "#palindrome using while\n",
        "string=\"chinnu\"\n",
        "left,right=0,len(string)-1\n",
        "is_palindrome=True\n",
        "while left<right:\n",
        "  if string[left]!=string[right]:\n",
        "    is_palindrome=False\n",
        "    break\n",
        "  left+=1\n",
        "  right-=1\n",
        "print(is_palindrome)"
      ],
      "metadata": {
        "colab": {
          "base_uri": "https://localhost:8080/"
        },
        "id": "b7oEvw9iIQrZ",
        "outputId": "d84d93d8-b1e0-4d30-9c91-7190b92db89d"
      },
      "execution_count": 5,
      "outputs": [
        {
          "output_type": "stream",
          "name": "stdout",
          "text": [
            "False\n"
          ]
        }
      ]
    },
    {
      "cell_type": "code",
      "source": [
        "#fibonacci series\n",
        "terms=10\n",
        "a,b=0,1\n",
        "count=0\n",
        "while count<terms:\n",
        "  print(a)\n",
        "  a,b=b,a+b\n",
        "  count+=1"
      ],
      "metadata": {
        "colab": {
          "base_uri": "https://localhost:8080/"
        },
        "id": "WLo25XuFJebH",
        "outputId": "a02f696d-9ff0-4045-97cf-cd58a3c2b28a"
      },
      "execution_count": 6,
      "outputs": [
        {
          "output_type": "stream",
          "name": "stdout",
          "text": [
            "0\n",
            "1\n",
            "1\n",
            "2\n",
            "3\n",
            "5\n",
            "8\n",
            "13\n",
            "21\n",
            "34\n"
          ]
        }
      ]
    }
  ]
}