{
  "nbformat": 4,
  "nbformat_minor": 0,
  "metadata": {
    "colab": {
      "provenance": [],
      "authorship_tag": "ABX9TyPLNfJPNyDzfDNMVxCeFYEl",
      "include_colab_link": true
    },
    "kernelspec": {
      "name": "python3",
      "display_name": "Python 3"
    },
    "language_info": {
      "name": "python"
    }
  },
  "cells": [
    {
      "cell_type": "markdown",
      "metadata": {
        "id": "view-in-github",
        "colab_type": "text"
      },
      "source": [
        "<a href=\"https://colab.research.google.com/github/KistappagariSupraja/python/blob/main/practice14.ipynb\" target=\"_parent\"><img src=\"https://colab.research.google.com/assets/colab-badge.svg\" alt=\"Open In Colab\"/></a>"
      ]
    },
    {
      "cell_type": "code",
      "execution_count": 7,
      "metadata": {
        "colab": {
          "base_uri": "https://localhost:8080/"
        },
        "id": "XLqtW8VsWduo",
        "outputId": "cbee194d-0b7a-4be6-dbc8-3cb1b576b4dd"
      },
      "outputs": [
        {
          "output_type": "stream",
          "name": "stdout",
          "text": [
            "enter number5\n",
            "\n",
            "\n",
            "sum is:  1\n",
            "\n",
            "\n",
            "sum is:  3\n",
            "\n",
            "\n",
            "sum is:  6\n",
            "\n",
            "\n",
            "sum is:  10\n",
            "\n",
            "\n",
            "sum is:  15\n"
          ]
        }
      ],
      "source": [
        "#loops\n",
        "s=0\n",
        "n=int(input(\"enter number\"))\n",
        "for i in range(1,n+1,1):\n",
        "    s+=i\n",
        "    print(\"\\n\")\n",
        "    print(\"sum is: \",s)"
      ]
    },
    {
      "cell_type": "code",
      "source": [
        "#multiplication table of a number\n",
        "n=int(input(\"enter the number:\"))\n",
        "for i in range(1,11,1):\n",
        "  product=n*i\n",
        "  print(product)"
      ],
      "metadata": {
        "colab": {
          "base_uri": "https://localhost:8080/"
        },
        "id": "6UmXXitSYrr2",
        "outputId": "25fec3ad-0535-4a06-d905-5a96564d33be"
      },
      "execution_count": 8,
      "outputs": [
        {
          "output_type": "stream",
          "name": "stdout",
          "text": [
            "enter the number:4\n",
            "4\n",
            "8\n",
            "12\n",
            "16\n",
            "20\n",
            "24\n",
            "28\n",
            "32\n",
            "36\n",
            "40\n"
          ]
        }
      ]
    },
    {
      "cell_type": "code",
      "source": [
        "#print prime numbers within a range\n",
        "start=15\n",
        "end=50\n",
        "print(\"prime numbers between\",start,\"and\",end,\"are:\")\n",
        "for num in range(start,end+1):\n",
        "  if num > 1:\n",
        "    for i in range(2,num):\n",
        "      if (num%i) == 0:\n",
        "        break\n",
        "    else:\n",
        "       print(num)"
      ],
      "metadata": {
        "colab": {
          "base_uri": "https://localhost:8080/"
        },
        "id": "7gVOumzGYlVS",
        "outputId": "088fe5a8-2638-4c80-f592-9f4f11283a72"
      },
      "execution_count": 16,
      "outputs": [
        {
          "output_type": "stream",
          "name": "stdout",
          "text": [
            "prime numbers between 15 and 50 are:\n",
            "17\n",
            "19\n",
            "23\n",
            "29\n",
            "31\n",
            "37\n",
            "41\n",
            "43\n",
            "47\n"
          ]
        }
      ]
    }
  ]
}