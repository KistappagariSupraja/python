{
  "nbformat": 4,
  "nbformat_minor": 0,
  "metadata": {
    "colab": {
      "provenance": [],
      "authorship_tag": "ABX9TyOb0aaQw4ygVM88JOGDtMDt",
      "include_colab_link": true
    },
    "kernelspec": {
      "name": "python3",
      "display_name": "Python 3"
    },
    "language_info": {
      "name": "python"
    }
  },
  "cells": [
    {
      "cell_type": "markdown",
      "metadata": {
        "id": "view-in-github",
        "colab_type": "text"
      },
      "source": [
        "<a href=\"https://colab.research.google.com/github/KistappagariSupraja/python/blob/main/practice9.ipynb\" target=\"_parent\"><img src=\"https://colab.research.google.com/assets/colab-badge.svg\" alt=\"Open In Colab\"/></a>"
      ]
    },
    {
      "cell_type": "code",
      "execution_count": 12,
      "metadata": {
        "colab": {
          "base_uri": "https://localhost:8080/"
        },
        "id": "JBsTILoyF2gJ",
        "outputId": "6e17eb2d-8976-4968-eb3c-1e9dcbdee6a5"
      },
      "outputs": [
        {
          "output_type": "stream",
          "name": "stdout",
          "text": [
            "enter the item to check:butter\n",
            "yes the item exists in thistuple\n"
          ]
        }
      ],
      "source": [
        "#checking if items exits\n",
        "thistuple=(\"milk\",\"curd\",\"ghee\",\"cheese\",\"butter\",\"paneer\")\n",
        "a=input(\"enter the item to check:\")\n",
        "if (a in thistuple):\n",
        "  print(\"yes\",\"the item exists in thistuple\")\n",
        "else:\n",
        "    print(\"no\")"
      ]
    },
    {
      "cell_type": "code",
      "source": [
        "thistuple=(\"good day\",\"hide and seek\",\"dark fantasy\",\"marie gold\")\n",
        "for i in range(len(thistuple)):\n",
        "  print(\"loop\",i+1,\":\",thistuple[i])"
      ],
      "metadata": {
        "colab": {
          "base_uri": "https://localhost:8080/"
        },
        "id": "IW6bp2dHIEfE",
        "outputId": "9ed4868a-a8c0-47ae-a67e-60e3f8f37059"
      },
      "execution_count": 20,
      "outputs": [
        {
          "output_type": "stream",
          "name": "stdout",
          "text": [
            "loop 1 : good day\n",
            "loop 2 : hide and seek\n",
            "loop 3 : dark fantasy\n",
            "loop 4 : marie gold\n"
          ]
        }
      ]
    },
    {
      "cell_type": "code",
      "source": [
        "#loop through index numbers\n",
        "thistuple = (\"strawberry\",\"gooseberry\",\"cranberry\",\"blueberry\")\n",
        "i = 0\n",
        "while i<len(thistuple):\n",
        "   print(thistuple[i])\n",
        "   i=i + 1"
      ],
      "metadata": {
        "colab": {
          "base_uri": "https://localhost:8080/"
        },
        "id": "8yYcsffDK49y",
        "outputId": "47b7e703-727e-471b-8f33-d758943918de"
      },
      "execution_count": 52,
      "outputs": [
        {
          "output_type": "stream",
          "name": "stdout",
          "text": [
            "strawberry\n",
            "gooseberry\n",
            "cranberry\n",
            "blueberry\n"
          ]
        }
      ]
    }
  ]
}