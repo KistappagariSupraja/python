{
  "nbformat": 4,
  "nbformat_minor": 0,
  "metadata": {
    "colab": {
      "provenance": [],
      "authorship_tag": "ABX9TyN4fgRgNdnBY+CkYigHvH6U",
      "include_colab_link": true
    },
    "kernelspec": {
      "name": "python3",
      "display_name": "Python 3"
    },
    "language_info": {
      "name": "python"
    }
  },
  "cells": [
    {
      "cell_type": "markdown",
      "metadata": {
        "id": "view-in-github",
        "colab_type": "text"
      },
      "source": [
        "<a href=\"https://colab.research.google.com/github/KistappagariSupraja/python/blob/main/practice9.ipynb\" target=\"_parent\"><img src=\"https://colab.research.google.com/assets/colab-badge.svg\" alt=\"Open In Colab\"/></a>"
      ]
    },
    {
      "cell_type": "code",
      "execution_count": 13,
      "metadata": {
        "colab": {
          "base_uri": "https://localhost:8080/"
        },
        "id": "JhfGODf0w8iu",
        "outputId": "b3301ce1-f6d4-48fb-9d94-927006720d49"
      },
      "outputs": [
        {
          "output_type": "stream",
          "name": "stdout",
          "text": [
            "empower:To give power or authority\n",
            "bicker:To argue about unimportant things\n",
            "charred:Something that is burnt and black\n"
          ]
        }
      ],
      "source": [
        "#dictionaries\n",
        "thisdict={\n",
        "    \"empower\": \"To give power or authority\",\n",
        "     \"bicker\":\"To argue about unimportant things\",\n",
        "    \"charred\":\"Something that is burnt and black\"\n",
        "         }\n",
        "for word,meaning in thisdict.items():\n",
        "  print(f\"{word}:{meaning}\")\n",
        ""
      ]
    },
    {
      "cell_type": "code",
      "source": [
        "#duplicates not allowed\n",
        "thisdict={\n",
        "    \"book\":\"word power\",\n",
        "    \"about\":\"vocabulary\",\n",
        "    \"year\":\"1949\",\n",
        "    \"year\":\"1989\"#it will not take two keys\n",
        "}\n",
        "for word,meaning in thisdict.items():\n",
        "  print(f\"{word}:{meaning}\")\n"
      ],
      "metadata": {
        "colab": {
          "base_uri": "https://localhost:8080/"
        },
        "id": "gJywSQEv0v33",
        "outputId": "ffca99e1-be5b-45c6-a2b1-a3e8a59362c7"
      },
      "execution_count": 18,
      "outputs": [
        {
          "output_type": "stream",
          "name": "stdout",
          "text": [
            "book:word power\n",
            "about:vocabulary\n",
            "year:1989\n"
          ]
        }
      ]
    },
    {
      "cell_type": "code",
      "source": [
        "#dictionary items-datatypes\n",
        "thisdict={\n",
        "    \"brand\":\"ford\",\n",
        "    \"electric\":\"false\",\n",
        "    \"year\":\"1964\",\n",
        "    \"colours\":[\"red\",\"white\",\"copper gold\"]\n",
        "}\n",
        "for word,meaning in thisdict.items():\n",
        "  print(f\"{word}:{meaning}\")"
      ],
      "metadata": {
        "colab": {
          "base_uri": "https://localhost:8080/"
        },
        "id": "T8H--o5Z2Lk-",
        "outputId": "ddb5c776-1fa1-4b23-d130-6b6096ca5837"
      },
      "execution_count": 20,
      "outputs": [
        {
          "output_type": "stream",
          "name": "stdout",
          "text": [
            "brand:ford\n",
            "electric:false\n",
            "year:1964\n",
            "colours:['red', 'white', 'copper gold']\n"
          ]
        }
      ]
    }
  ]
}