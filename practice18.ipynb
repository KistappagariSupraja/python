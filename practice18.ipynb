{
  "nbformat": 4,
  "nbformat_minor": 0,
  "metadata": {
    "colab": {
      "provenance": [],
      "authorship_tag": "ABX9TyPhu5ZXSeOqS7NuZ87x/7oH",
      "include_colab_link": true
    },
    "kernelspec": {
      "name": "python3",
      "display_name": "Python 3"
    },
    "language_info": {
      "name": "python"
    }
  },
  "cells": [
    {
      "cell_type": "markdown",
      "metadata": {
        "id": "view-in-github",
        "colab_type": "text"
      },
      "source": [
        "<a href=\"https://colab.research.google.com/github/KistappagariSupraja/python/blob/main/practice18.ipynb\" target=\"_parent\"><img src=\"https://colab.research.google.com/assets/colab-badge.svg\" alt=\"Open In Colab\"/></a>"
      ]
    },
    {
      "cell_type": "code",
      "execution_count": null,
      "metadata": {
        "colab": {
          "base_uri": "https://localhost:8080/"
        },
        "id": "gnav0WwUNC3G",
        "outputId": "47d5093c-9667-423e-be5c-feceb1ba6065"
      },
      "outputs": [
        {
          "output_type": "stream",
          "name": "stdout",
          "text": [
            "enter the value of z:9\n",
            "z is greater than 5 but not greater than 10\n"
          ]
        }
      ],
      "source": [
        "#if elif and else statement\n",
        "z=int(input(\"enter the value of z:\"))\n",
        "if z>10:\n",
        "  print(\"z is greater than 10\")\n",
        "elif z>5:\n",
        "  print(\"z is greater than 5 but not greater than 10\")\n",
        "else:\n",
        "  print(\"z is not greater than 5\")"
      ]
    },
    {
      "cell_type": "code",
      "source": [
        "#logical operator using if else\n",
        "age=int(input(\"enter the age:\"))\n",
        "exp=int(input(\"enter the experience:\"))\n",
        "if age>23 and exp>6:\n",
        "  print(\"you are eligible for the job\")\n",
        "else:\n",
        "  print(\"not eligible\")"
      ],
      "metadata": {
        "colab": {
          "base_uri": "https://localhost:8080/"
        },
        "id": "i4LdTwDhUeH5",
        "outputId": "d8ff3efe-845e-40df-adbb-fc720515b1b1"
      },
      "execution_count": null,
      "outputs": [
        {
          "output_type": "stream",
          "name": "stdout",
          "text": [
            "enter the age:28\n",
            "enter the experience:5\n",
            "not eligible\n"
          ]
        }
      ]
    }
  ]
}