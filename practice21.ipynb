{
  "nbformat": 4,
  "nbformat_minor": 0,
  "metadata": {
    "colab": {
      "provenance": [],
      "authorship_tag": "ABX9TyOqD0NrR+cecd+WJ0P303lx",
      "include_colab_link": true
    },
    "kernelspec": {
      "name": "python3",
      "display_name": "Python 3"
    },
    "language_info": {
      "name": "python"
    }
  },
  "cells": [
    {
      "cell_type": "markdown",
      "metadata": {
        "id": "view-in-github",
        "colab_type": "text"
      },
      "source": [
        "<a href=\"https://colab.research.google.com/github/KistappagariSupraja/python/blob/main/practice21.ipynb\" target=\"_parent\"><img src=\"https://colab.research.google.com/assets/colab-badge.svg\" alt=\"Open In Colab\"/></a>"
      ]
    },
    {
      "cell_type": "code",
      "execution_count": 14,
      "metadata": {
        "colab": {
          "base_uri": "https://localhost:8080/"
        },
        "id": "BpBGvv6nJeyt",
        "outputId": "7fa2214b-792a-4d51-90f9-050ef6853afb"
      },
      "outputs": [
        {
          "output_type": "stream",
          "name": "stdout",
          "text": [
            "      * \n",
            "     * * \n",
            "    *   * \n",
            "   *     * \n",
            "  *       * \n",
            " *         * \n",
            "* * * * * * * \n"
          ]
        }
      ],
      "source": [
        "#triangle with spaces\n",
        "n=7\n",
        "for rows in range(1,n+1):\n",
        "   for spaces in range(1,n-rows+1):\n",
        "     print(\" \",end=\"\")\n",
        "   for cols in range(1,rows+1):\n",
        "      if cols==1 or cols==rows or rows==n:\n",
        "        print(\"*\",end=\" \")\n",
        "      else:\n",
        "       print(\" \",end=\" \")\n",
        "   print()"
      ]
    },
    {
      "cell_type": "code",
      "source": [
        "#pattern half bow\n",
        "n=7\n",
        "totalcols=2*n-1\n",
        "for rows in range(1,n+1):\n",
        "  for cols in range(1,totalcols+1):\n",
        "    if cols<=rows or \\\n",
        "       cols>totalcols-rows:\n",
        "       print(\"*\",end=\"\")\n",
        "    else:\n",
        "      print(\" \",end=\"\")\n",
        "  print()"
      ],
      "metadata": {
        "colab": {
          "base_uri": "https://localhost:8080/"
        },
        "id": "xt5npc6CNERx",
        "outputId": "4a6b87d0-32ab-413e-d4b1-bcd977cf5d2e"
      },
      "execution_count": 21,
      "outputs": [
        {
          "output_type": "stream",
          "name": "stdout",
          "text": [
            "*           *\n",
            "**         **\n",
            "***       ***\n",
            "****     ****\n",
            "*****   *****\n",
            "****** ******\n",
            "*************\n"
          ]
        }
      ]
    },
    {
      "cell_type": "code",
      "source": [
        "#full bow\n",
        "n=7\n",
        "totalcols=2*n-1\n",
        "for rows in range(1,n+1):\n",
        "  for cols in range(1,totalcols+1):\n",
        "    if cols<=rows or \\\n",
        "       cols>totalcols-rows:\n",
        "       print(\"*\",end=\"\")\n",
        "    else:\n",
        "      print(\" \",end=\"\")\n",
        "  print()\n",
        "for rows in range(1,n):\n",
        "  for cols in range(1,totalcols+1):\n",
        "    if cols<=n-rows or \\\n",
        "       cols>=n+rows:\n",
        "       print(\"*\",end=\"\")\n",
        "    else:\n",
        "      print(\" \",end=\"\")\n",
        "  print()"
      ],
      "metadata": {
        "colab": {
          "base_uri": "https://localhost:8080/"
        },
        "id": "58BT1JiSOkjr",
        "outputId": "724a95c7-fb53-48fb-d54f-bdd4b59a9b46"
      },
      "execution_count": 31,
      "outputs": [
        {
          "output_type": "stream",
          "name": "stdout",
          "text": [
            "*           *\n",
            "**         **\n",
            "***       ***\n",
            "****     ****\n",
            "*****   *****\n",
            "****** ******\n",
            "*************\n",
            "****** ******\n",
            "*****   *****\n",
            "****     ****\n",
            "***       ***\n",
            "**         **\n",
            "*           *\n"
          ]
        }
      ]
    }
  ]
}