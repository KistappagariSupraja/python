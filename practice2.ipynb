{
  "nbformat": 4,
  "nbformat_minor": 0,
  "metadata": {
    "colab": {
      "provenance": [],
      "authorship_tag": "ABX9TyOtVduTLKKtSkyMB8APUfhC",
      "include_colab_link": true
    },
    "kernelspec": {
      "name": "python3",
      "display_name": "Python 3"
    },
    "language_info": {
      "name": "python"
    }
  },
  "cells": [
    {
      "cell_type": "markdown",
      "metadata": {
        "id": "view-in-github",
        "colab_type": "text"
      },
      "source": [
        "<a href=\"https://colab.research.google.com/github/KistappagariSupraja/python/blob/main/practice2.ipynb\" target=\"_parent\"><img src=\"https://colab.research.google.com/assets/colab-badge.svg\" alt=\"Open In Colab\"/></a>"
      ]
    },
    {
      "cell_type": "code",
      "execution_count": 1,
      "metadata": {
        "colab": {
          "base_uri": "https://localhost:8080/"
        },
        "id": "2gBkLz7lcc9f",
        "outputId": "3620f2fe-f10f-496b-b963-cd8182871465"
      },
      "outputs": [
        {
          "output_type": "stream",
          "name": "stdout",
          "text": [
            " su\n"
          ]
        }
      ],
      "source": [
        "#string slicing\n",
        "name=\"iam supraja\"\n",
        "print(name[3:6])\n"
      ]
    },
    {
      "cell_type": "code",
      "source": [
        "name=\"iam supraja\"\n",
        "length=len(name)\n",
        "print(length)"
      ],
      "metadata": {
        "colab": {
          "base_uri": "https://localhost:8080/"
        },
        "id": "fZGmrNpBdcJR",
        "outputId": "019fc047-ef6c-400c-b747-721abc89f7d0"
      },
      "execution_count": 2,
      "outputs": [
        {
          "output_type": "stream",
          "name": "stdout",
          "text": [
            "11\n"
          ]
        }
      ]
    },
    {
      "cell_type": "code",
      "source": [
        "letter=\"dear supraja,\\n\\nthis python course is nice.\\n\\nthank you!\"\n",
        "print(letter)\n"
      ],
      "metadata": {
        "colab": {
          "base_uri": "https://localhost:8080/"
        },
        "id": "EBGJOpjCeVwA",
        "outputId": "453ae53c-4ca9-430b-e8d4-92b1cfa7c056"
      },
      "execution_count": 6,
      "outputs": [
        {
          "output_type": "stream",
          "name": "stdout",
          "text": [
            "dear supraja,\n",
            "\n",
            "this python course is nice.\n",
            "\n",
            "thank you!\n"
          ]
        }
      ]
    },
    {
      "cell_type": "code",
      "source": [
        "#string slicing with skip value\n",
        "name=\"extradionary\"\n",
        "print(name [1],name[5],name[7])\n"
      ],
      "metadata": {
        "colab": {
          "base_uri": "https://localhost:8080/"
        },
        "id": "DvLyDcDAf1_f",
        "outputId": "f66d9b5f-31d3-4785-9d0e-e18e4bf92deb"
      },
      "execution_count": 16,
      "outputs": [
        {
          "output_type": "stream",
          "name": "stdout",
          "text": [
            "x d o\n"
          ]
        }
      ]
    },
    {
      "cell_type": "code",
      "source": [],
      "metadata": {
        "id": "Hnpkjx2thakg"
      },
      "execution_count": null,
      "outputs": []
    }
  ]
}