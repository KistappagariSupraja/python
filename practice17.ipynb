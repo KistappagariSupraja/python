{
  "nbformat": 4,
  "nbformat_minor": 0,
  "metadata": {
    "colab": {
      "provenance": [],
      "authorship_tag": "ABX9TyMXybkDxhktY3svKi2niku/",
      "include_colab_link": true
    },
    "kernelspec": {
      "name": "python3",
      "display_name": "Python 3"
    },
    "language_info": {
      "name": "python"
    }
  },
  "cells": [
    {
      "cell_type": "markdown",
      "metadata": {
        "id": "view-in-github",
        "colab_type": "text"
      },
      "source": [
        "<a href=\"https://colab.research.google.com/github/KistappagariSupraja/python/blob/main/practice17.ipynb\" target=\"_parent\"><img src=\"https://colab.research.google.com/assets/colab-badge.svg\" alt=\"Open In Colab\"/></a>"
      ]
    },
    {
      "cell_type": "code",
      "execution_count": 2,
      "metadata": {
        "colab": {
          "base_uri": "https://localhost:8080/"
        },
        "id": "Djda7_cFFuz0",
        "outputId": "5268ec8e-1e3c-4d60-ed74-62aea49497d3"
      },
      "outputs": [
        {
          "output_type": "stream",
          "name": "stdout",
          "text": [
            "enter the value of x:7\n",
            "x is greater than 5\n"
          ]
        }
      ],
      "source": [
        "#conditions\n",
        "x=int(input(\"enter the value of x:\"))\n",
        "if x>5:\n",
        "  print(\"x is greater than 5\")"
      ]
    },
    {
      "cell_type": "code",
      "source": [
        "#if and else statement\n",
        "x=int(input(\"enter the value of x:\"))\n",
        "if x>5:\n",
        "  print(\"x is greater than 5\")\n",
        "else:\n",
        "     print(\"x is less than 5\")"
      ],
      "metadata": {
        "colab": {
          "base_uri": "https://localhost:8080/"
        },
        "id": "nc9c-KCFK2i8",
        "outputId": "d441773a-68bf-4a28-bc9d-3c098cfce5c8"
      },
      "execution_count": 5,
      "outputs": [
        {
          "output_type": "stream",
          "name": "stdout",
          "text": [
            "enter the value of x:4\n",
            "x is less than 5\n"
          ]
        }
      ]
    },
    {
      "cell_type": "code",
      "source": [
        "#nested if else\n",
        "age=int(input(\"enter the age:\"))\n",
        "if age>=18:\n",
        "  if age>=65:\n",
        "    print(\"senior citizen\")\n",
        "  else:\n",
        "    print(\"adult\")\n",
        "else:\n",
        "    print(\"minor\")"
      ],
      "metadata": {
        "colab": {
          "base_uri": "https://localhost:8080/"
        },
        "id": "wAQq0hw5L0y6",
        "outputId": "fdc83ebe-093f-4f5d-9703-a080b6a9e850"
      },
      "execution_count": 8,
      "outputs": [
        {
          "output_type": "stream",
          "name": "stdout",
          "text": [
            "enter the age:45\n",
            "adult\n"
          ]
        }
      ]
    }
  ]
}