{
  "nbformat": 4,
  "nbformat_minor": 0,
  "metadata": {
    "colab": {
      "provenance": [],
      "authorship_tag": "ABX9TyNCngpGx927Ne0Sncgb9Dw+",
      "include_colab_link": true
    },
    "kernelspec": {
      "name": "python3",
      "display_name": "Python 3"
    },
    "language_info": {
      "name": "python"
    }
  },
  "cells": [
    {
      "cell_type": "markdown",
      "metadata": {
        "id": "view-in-github",
        "colab_type": "text"
      },
      "source": [
        "<a href=\"https://colab.research.google.com/github/KistappagariSupraja/python/blob/main/practice13.ipynb\" target=\"_parent\"><img src=\"https://colab.research.google.com/assets/colab-badge.svg\" alt=\"Open In Colab\"/></a>"
      ]
    },
    {
      "cell_type": "code",
      "execution_count": 1,
      "metadata": {
        "colab": {
          "base_uri": "https://localhost:8080/"
        },
        "id": "BwBvLwkmFZpH",
        "outputId": "d3d9bd71-d7b5-4bb1-e5a2-c8a7c18dfaf7"
      },
      "outputs": [
        {
          "output_type": "stream",
          "name": "stdout",
          "text": [
            "{1, 2, 3, 4, 5, 6, 7, 8, 9, 10}\n"
          ]
        }
      ],
      "source": [
        "#union\n",
        "set1={1,3,5,7,9,6}\n",
        "set2={2,3,6,8,10,4}\n",
        "print(set1.union(set2))"
      ]
    },
    {
      "cell_type": "code",
      "source": [
        "#difference\n",
        "set1={1,4,5,6,9,2}\n",
        "set2={2,4,3,6,8,7}\n",
        "print(set1.difference(set2))\n",
        "print(set2.difference(set1))"
      ],
      "metadata": {
        "colab": {
          "base_uri": "https://localhost:8080/"
        },
        "id": "wtrIjXFYGEE8",
        "outputId": "f3a3de8f-04ef-43f2-8f59-dc902b877f40"
      },
      "execution_count": 14,
      "outputs": [
        {
          "output_type": "stream",
          "name": "stdout",
          "text": [
            "{1, 5, 9}\n",
            "{8, 3, 7}\n"
          ]
        }
      ]
    },
    {
      "cell_type": "code",
      "source": [
        "#intersection\n",
        "set1={2,6,7,8,9,0}\n",
        "set2={2,5,6,8,10,3}\n",
        "print(set1.intersection(set2))\n"
      ],
      "metadata": {
        "colab": {
          "base_uri": "https://localhost:8080/"
        },
        "id": "p1tYpYezIDic",
        "outputId": "6576f7a8-43ab-4769-a517-d1da84a17f92"
      },
      "execution_count": 16,
      "outputs": [
        {
          "output_type": "stream",
          "name": "stdout",
          "text": [
            "{8, 2, 6}\n"
          ]
        }
      ]
    },
    {
      "cell_type": "code",
      "source": [
        "#symmetric difference\n",
        "set1={1,2,3,4,5}\n",
        "set2={2,3,4,6,7}\n",
        "print(set1.symmetric_difference(set2))"
      ],
      "metadata": {
        "colab": {
          "base_uri": "https://localhost:8080/"
        },
        "id": "ZzRZUa-MI5T0",
        "outputId": "ec09a17b-2a11-4a5c-a19e-d39d0758e9fb"
      },
      "execution_count": 17,
      "outputs": [
        {
          "output_type": "stream",
          "name": "stdout",
          "text": [
            "{1, 5, 6, 7}\n"
          ]
        }
      ]
    },
    {
      "cell_type": "code",
      "source": [
        "#join multiple sets\n",
        "set1={1,2,3,4,5}\n",
        "set2={\"milk\",\"bun\"}\n",
        "set3={\"biryani\",\"parrota\"}\n",
        "set4={\"banana\",\"mango\"}\n",
        "print(set1.union(set2,set3,set4))\n"
      ],
      "metadata": {
        "colab": {
          "base_uri": "https://localhost:8080/"
        },
        "id": "iyFV494iJf2w",
        "outputId": "8c6ba04c-d36f-4798-b625-bba2fbc95161"
      },
      "execution_count": 18,
      "outputs": [
        {
          "output_type": "stream",
          "name": "stdout",
          "text": [
            "{1, 2, 3, 4, 5, 'parrota', 'biryani', 'milk', 'mango', 'banana', 'bun'}\n"
          ]
        }
      ]
    }
  ]
}