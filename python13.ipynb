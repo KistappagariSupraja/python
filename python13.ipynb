{
  "nbformat": 4,
  "nbformat_minor": 0,
  "metadata": {
    "colab": {
      "provenance": [],
      "authorship_tag": "ABX9TyOpdSkWCLEbx5sx29q+UV8Q",
      "include_colab_link": true
    },
    "kernelspec": {
      "name": "python3",
      "display_name": "Python 3"
    },
    "language_info": {
      "name": "python"
    }
  },
  "cells": [
    {
      "cell_type": "markdown",
      "metadata": {
        "id": "view-in-github",
        "colab_type": "text"
      },
      "source": [
        "<a href=\"https://colab.research.google.com/github/KistappagariSupraja/python/blob/main/python13.ipynb\" target=\"_parent\"><img src=\"https://colab.research.google.com/assets/colab-badge.svg\" alt=\"Open In Colab\"/></a>"
      ]
    },
    {
      "cell_type": "code",
      "execution_count": null,
      "metadata": {
        "colab": {
          "base_uri": "https://localhost:8080/"
        },
        "id": "dBeRgyF6LwQk",
        "outputId": "728465f8-d3f8-4076-8762-b8ca71fe2b9f"
      },
      "outputs": [
        {
          "output_type": "stream",
          "name": "stdout",
          "text": [
            "0\n",
            "1\n",
            "2\n",
            "3\n",
            "4\n",
            "5\n",
            "6\n",
            "7\n",
            "8\n"
          ]
        }
      ],
      "source": [
        "#for loop\n",
        "for i in range (9):\n",
        "  print(i)\n",
        "  i=i+1"
      ]
    },
    {
      "cell_type": "code",
      "source": [
        "#even numbers\n",
        "x=int(input(\"enter the number:\"))\n",
        "if x%2==0:\n",
        "  print(\"this is an even number\")"
      ],
      "metadata": {
        "id": "ldpIilzQO6xq",
        "colab": {
          "base_uri": "https://localhost:8080/"
        },
        "outputId": "c3d98aa5-61b7-4e49-8ada-48d663521105"
      },
      "execution_count": 2,
      "outputs": [
        {
          "output_type": "stream",
          "name": "stdout",
          "text": [
            "enter the number:6\n",
            "this is an even number\n"
          ]
        }
      ]
    },
    {
      "cell_type": "code",
      "source": [
        "#printing characters\n",
        "for char in \"python\":\n",
        "  print(char)"
      ],
      "metadata": {
        "colab": {
          "base_uri": "https://localhost:8080/"
        },
        "id": "oJQOwJDypRQm",
        "outputId": "35d72fe5-f2cb-43f1-c013-963cf742f555"
      },
      "execution_count": 3,
      "outputs": [
        {
          "output_type": "stream",
          "name": "stdout",
          "text": [
            "p\n",
            "y\n",
            "t\n",
            "h\n",
            "o\n",
            "n\n"
          ]
        }
      ]
    },
    {
      "cell_type": "code",
      "source": [
        "#looping through string\n",
        "for x in \"helloworld\":\n",
        "  print(x)"
      ],
      "metadata": {
        "colab": {
          "base_uri": "https://localhost:8080/"
        },
        "id": "QMlAfjVyqGra",
        "outputId": "686cbbaa-4761-495a-81f4-e2adc3a37235"
      },
      "execution_count": 4,
      "outputs": [
        {
          "output_type": "stream",
          "name": "stdout",
          "text": [
            "h\n",
            "e\n",
            "l\n",
            "l\n",
            "o\n",
            "w\n",
            "o\n",
            "r\n",
            "l\n",
            "d\n"
          ]
        }
      ]
    }
  ]
}