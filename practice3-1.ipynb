{
  "nbformat": 4,
  "nbformat_minor": 0,
  "metadata": {
    "colab": {
      "provenance": [],
      "authorship_tag": "ABX9TyPCWRhhKyQJQWqiFrKSXCHs",
      "include_colab_link": true
    },
    "kernelspec": {
      "name": "python3",
      "display_name": "Python 3"
    },
    "language_info": {
      "name": "python"
    }
  },
  "cells": [
    {
      "cell_type": "markdown",
      "metadata": {
        "id": "view-in-github",
        "colab_type": "text"
      },
      "source": [
        "<a href=\"https://colab.research.google.com/github/KistappagariSupraja/python/blob/main/practice3-1.ipynb\" target=\"_parent\"><img src=\"https://colab.research.google.com/assets/colab-badge.svg\" alt=\"Open In Colab\"/></a>"
      ]
    },
    {
      "cell_type": "code",
      "execution_count": 5,
      "metadata": {
        "colab": {
          "base_uri": "https://localhost:8080/"
        },
        "id": "M-7hdHGxSw6G",
        "outputId": "40447994-dc38-4d91-8c94-a63a273d5414"
      },
      "outputs": [
        {
          "output_type": "stream",
          "name": "stdout",
          "text": [
            "enter the value of a:6\n",
            "enter the value of b:2\n",
            "c 8\n",
            "d 4\n",
            "e 12\n",
            "f 0\n",
            "g 3.0\n"
          ]
        }
      ],
      "source": [
        "#arithematic operations\n",
        "a=int(input(\"enter the value of a:\"))\n",
        "b= int(input(\"enter the value of b:\"))\n",
        "c=a+b\n",
        "d=a-b\n",
        "e=a*b\n",
        "f=a%b#remainder\n",
        "g=a/b#quotient\n",
        "print(\"c\",c)\n",
        "print(\"d\",d)\n",
        "print(\"e\",e)\n",
        "print(\"f\",f)\n",
        "print(\"g\",g)"
      ]
    },
    {
      "cell_type": "code",
      "source": [
        "a=8\n",
        "b=7.5\n",
        "c=3+6j\n",
        "d=\"chinnu\"\n",
        "e=False\n",
        "print(\"type(a):\",type(a))\n",
        "print(\"type(b):\",type(b))\n",
        "print(\"type(c):\",type(c))\n",
        "print(\"type(c):\",type(d))\n",
        "print(\"type(e):\",type(e))"
      ],
      "metadata": {
        "colab": {
          "base_uri": "https://localhost:8080/"
        },
        "id": "NHTjCfGEVJ7-",
        "outputId": "cc70b70f-3f41-45c8-8636-dafaafbeef56"
      },
      "execution_count": 6,
      "outputs": [
        {
          "output_type": "stream",
          "name": "stdout",
          "text": [
            "type(a): <class 'int'>\n",
            "type(b): <class 'float'>\n",
            "type(c): <class 'complex'>\n",
            "type(c): <class 'str'>\n",
            "type(e): <class 'bool'>\n"
          ]
        }
      ]
    },
    {
      "cell_type": "code",
      "source": [
        "a=int(input(\"enter the value of a:\"))\n",
        "b=int(input(\"enter the value of b:\"))\n",
        "c=a%b\n",
        "print(\"c\",c)"
      ],
      "metadata": {
        "colab": {
          "base_uri": "https://localhost:8080/"
        },
        "id": "O9wntx26Wf92",
        "outputId": "c3137981-33d5-4438-9f16-b47551a7a11b"
      },
      "execution_count": 11,
      "outputs": [
        {
          "output_type": "stream",
          "name": "stdout",
          "text": [
            "enter the value of a:8\n",
            "enter the value of b:2\n",
            "c 0\n"
          ]
        }
      ]
    },
    {
      "cell_type": "code",
      "source": [],
      "metadata": {
        "id": "TOVbsWaZWpSl"
      },
      "execution_count": null,
      "outputs": []
    }
  ]
}